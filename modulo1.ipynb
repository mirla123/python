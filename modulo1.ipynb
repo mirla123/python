{
  "nbformat": 4,
  "nbformat_minor": 0,
  "metadata": {
    "colab": {
      "provenance": [],
      "authorship_tag": "ABX9TyOWFkPfUOAibikJuLk5tK+d",
      "include_colab_link": true
    },
    "kernelspec": {
      "name": "python3",
      "display_name": "Python 3"
    },
    "language_info": {
      "name": "python"
    }
  },
  "cells": [
    {
      "cell_type": "markdown",
      "metadata": {
        "id": "view-in-github",
        "colab_type": "text"
      },
      "source": [
        "<a href=\"https://colab.research.google.com/github/mirla123/python/blob/main/modulo1.ipynb\" target=\"_parent\"><img src=\"https://colab.research.google.com/assets/colab-badge.svg\" alt=\"Open In Colab\"/></a>"
      ]
    },
    {
      "cell_type": "code",
      "execution_count": null,
      "metadata": {
        "id": "zYVU38hwRwfV"
      },
      "outputs": [],
      "source": [
        "escola = \"ifam\""
      ]
    },
    {
      "cell_type": "code",
      "source": [
        "print(escola)"
      ],
      "metadata": {
        "colab": {
          "base_uri": "https://localhost:8080/",
          "height": 169
        },
        "id": "q9iyASYqSNni",
        "outputId": "194de355-6bf0-43c4-9886-59b9b7b6d14e"
      },
      "execution_count": 1,
      "outputs": [
        {
          "output_type": "error",
          "ename": "NameError",
          "evalue": "ignored",
          "traceback": [
            "\u001b[0;31m---------------------------------------------------------------------------\u001b[0m",
            "\u001b[0;31mNameError\u001b[0m                                 Traceback (most recent call last)",
            "\u001b[0;32m<ipython-input-1-eb81e8decb02>\u001b[0m in \u001b[0;36m<module>\u001b[0;34m\u001b[0m\n\u001b[0;32m----> 1\u001b[0;31m \u001b[0mprint\u001b[0m\u001b[0;34m(\u001b[0m\u001b[0mescola\u001b[0m\u001b[0;34m)\u001b[0m\u001b[0;34m\u001b[0m\u001b[0;34m\u001b[0m\u001b[0m\n\u001b[0m",
            "\u001b[0;31mNameError\u001b[0m: name 'escola' is not defined"
          ]
        }
      ]
    },
    {
      "cell_type": "code",
      "source": [
        "number = 3\n"
      ],
      "metadata": {
        "id": "T5Jt9DA6TjfS"
      },
      "execution_count": 2,
      "outputs": []
    },
    {
      "cell_type": "code",
      "source": [
        "type(number)"
      ],
      "metadata": {
        "id": "3k27kcS2TylS",
        "outputId": "9a84ee38-bf1e-4c0a-e0ae-d48e686a36be",
        "colab": {
          "base_uri": "https://localhost:8080/"
        }
      },
      "execution_count": 4,
      "outputs": [
        {
          "output_type": "execute_result",
          "data": {
            "text/plain": [
              "int"
            ]
          },
          "metadata": {},
          "execution_count": 4
        }
      ]
    },
    {
      "cell_type": "code",
      "source": [
        "verdadeFalso = True"
      ],
      "metadata": {
        "id": "tfUYwlSET2ii"
      },
      "execution_count": 5,
      "outputs": []
    },
    {
      "cell_type": "code",
      "source": [
        "type(verdadeFalso)"
      ],
      "metadata": {
        "id": "XeOe3evMT8zB",
        "outputId": "cea1c891-9544-42de-91d7-9483eac4173e",
        "colab": {
          "base_uri": "https://localhost:8080/"
        }
      },
      "execution_count": 7,
      "outputs": [
        {
          "output_type": "execute_result",
          "data": {
            "text/plain": [
              "bool"
            ]
          },
          "metadata": {},
          "execution_count": 7
        }
      ]
    },
    {
      "cell_type": "code",
      "source": [
        "escola = \"ifam\""
      ],
      "metadata": {
        "id": "VE9EvB3hUBgh"
      },
      "execution_count": 9,
      "outputs": []
    },
    {
      "cell_type": "code",
      "source": [
        "type(escola)"
      ],
      "metadata": {
        "id": "4qwtHEOAUFtT",
        "outputId": "8803c5ed-668a-4f50-97ad-9d168d98727f",
        "colab": {
          "base_uri": "https://localhost:8080/"
        }
      },
      "execution_count": 11,
      "outputs": [
        {
          "output_type": "execute_result",
          "data": {
            "text/plain": [
              "str"
            ]
          },
          "metadata": {},
          "execution_count": 11
        }
      ]
    },
    {
      "cell_type": "code",
      "source": [
        "helloMessage = \"Hello World!\""
      ],
      "metadata": {
        "id": "-ue7dBbPURzR"
      },
      "execution_count": 14,
      "outputs": []
    },
    {
      "cell_type": "code",
      "source": [
        "print(helloMessage)"
      ],
      "metadata": {
        "id": "VKpKrupeUVW0",
        "outputId": "5b4bd020-99df-4f29-be2d-30042190a6e3",
        "colab": {
          "base_uri": "https://localhost:8080/"
        }
      },
      "execution_count": 16,
      "outputs": [
        {
          "output_type": "stream",
          "name": "stdout",
          "text": [
            "Hello World!\n"
          ]
        }
      ]
    },
    {
      "cell_type": "code",
      "source": [
        "character_example = 'a'"
      ],
      "metadata": {
        "id": "1hM2DPgAUa-R"
      },
      "execution_count": 17,
      "outputs": []
    },
    {
      "cell_type": "code",
      "source": [
        "print(character_example)"
      ],
      "metadata": {
        "id": "cOjEinW_UcbR",
        "outputId": "e79939b7-3bef-4034-b5ee-360663c4fa2e",
        "colab": {
          "base_uri": "https://localhost:8080/"
        }
      },
      "execution_count": 19,
      "outputs": [
        {
          "output_type": "stream",
          "name": "stdout",
          "text": [
            "a\n"
          ]
        }
      ]
    },
    {
      "cell_type": "code",
      "source": [
        "numeroA = 3\n",
        "numeroB = 4"
      ],
      "metadata": {
        "id": "3LUBC7JGUlpi"
      },
      "execution_count": 20,
      "outputs": []
    },
    {
      "cell_type": "code",
      "source": [
        "print(numeroA+numeroB)"
      ],
      "metadata": {
        "id": "2NRFhycUUqmx",
        "outputId": "e5749a68-8dbf-4b12-f84b-5b5c123b20d8",
        "colab": {
          "base_uri": "https://localhost:8080/"
        }
      },
      "execution_count": 22,
      "outputs": [
        {
          "output_type": "stream",
          "name": "stdout",
          "text": [
            "7\n"
          ]
        }
      ]
    },
    {
      "cell_type": "code",
      "source": [
        "print(numeroA*numeroB)"
      ],
      "metadata": {
        "id": "YHJCIE31UxuS",
        "outputId": "51a23f4f-50cb-4d63-e705-09e4dc62d2c8",
        "colab": {
          "base_uri": "https://localhost:8080/"
        }
      },
      "execution_count": 23,
      "outputs": [
        {
          "output_type": "stream",
          "name": "stdout",
          "text": [
            "12\n"
          ]
        }
      ]
    },
    {
      "cell_type": "code",
      "source": [
        "print(numeroA/numeroB)"
      ],
      "metadata": {
        "id": "tVit7xjuU08j",
        "outputId": "fffe2546-e837-4abb-e543-bd3b18678727",
        "colab": {
          "base_uri": "https://localhost:8080/"
        }
      },
      "execution_count": 25,
      "outputs": [
        {
          "output_type": "stream",
          "name": "stdout",
          "text": [
            "0.75\n"
          ]
        }
      ]
    },
    {
      "cell_type": "code",
      "source": [
        "print(5+23)"
      ],
      "metadata": {
        "id": "sk_PUIzfVPKR",
        "outputId": "753d6ed3-2ed9-4665-b5da-e282bbf73645",
        "colab": {
          "base_uri": "https://localhost:8080/"
        }
      },
      "execution_count": 27,
      "outputs": [
        {
          "output_type": "stream",
          "name": "stdout",
          "text": [
            "28\n"
          ]
        }
      ]
    },
    {
      "cell_type": "code",
      "source": [
        "print(10%3)"
      ],
      "metadata": {
        "id": "FL5QxZgPVRuh",
        "outputId": "fed7ee78-111b-4f12-d82e-7e6db39d1a3d",
        "colab": {
          "base_uri": "https://localhost:8080/"
        }
      },
      "execution_count": 28,
      "outputs": [
        {
          "output_type": "stream",
          "name": "stdout",
          "text": [
            "1\n"
          ]
        }
      ]
    },
    {
      "cell_type": "code",
      "source": [
        "print(\"mirla\"*5)"
      ],
      "metadata": {
        "id": "65tdNF5dVbsB",
        "outputId": "1b8ae4da-072e-4d20-8b16-366820644eb3",
        "colab": {
          "base_uri": "https://localhost:8080/"
        }
      },
      "execution_count": 29,
      "outputs": [
        {
          "output_type": "stream",
          "name": "stdout",
          "text": [
            "mirlamirlamirlamirlamirla\n"
          ]
        }
      ]
    },
    {
      "cell_type": "code",
      "source": [
        "print(mirla*3)"
      ],
      "metadata": {
        "id": "TayL4OVXViXR",
        "outputId": "4ebcd556-e5c5-4564-e720-cffe3db59d46",
        "colab": {
          "base_uri": "https://localhost:8080/",
          "height": 169
        }
      },
      "execution_count": 30,
      "outputs": [
        {
          "output_type": "error",
          "ename": "NameError",
          "evalue": "ignored",
          "traceback": [
            "\u001b[0;31m---------------------------------------------------------------------------\u001b[0m",
            "\u001b[0;31mNameError\u001b[0m                                 Traceback (most recent call last)",
            "\u001b[0;32m<ipython-input-30-c77e24b86808>\u001b[0m in \u001b[0;36m<module>\u001b[0;34m\u001b[0m\n\u001b[0;32m----> 1\u001b[0;31m \u001b[0mprint\u001b[0m\u001b[0;34m(\u001b[0m\u001b[0mmirla\u001b[0m\u001b[0;34m*\u001b[0m\u001b[0;36m3\u001b[0m\u001b[0;34m)\u001b[0m\u001b[0;34m\u001b[0m\u001b[0;34m\u001b[0m\u001b[0m\n\u001b[0m",
            "\u001b[0;31mNameError\u001b[0m: name 'mirla' is not defined"
          ]
        }
      ]
    },
    {
      "cell_type": "code",
      "source": [
        "print('mirla'*3)"
      ],
      "metadata": {
        "id": "UjmQm57zVmwU",
        "outputId": "5fe63878-02b4-4c62-f0ff-6877a08de685",
        "colab": {
          "base_uri": "https://localhost:8080/"
        }
      },
      "execution_count": 31,
      "outputs": [
        {
          "output_type": "stream",
          "name": "stdout",
          "text": [
            "mirlamirlamirla\n"
          ]
        }
      ]
    },
    {
      "cell_type": "code",
      "source": [
        "print('mirla'+5)"
      ],
      "metadata": {
        "id": "SLS3Oji8Vt9B",
        "outputId": "089c751a-821b-48c9-b862-85b4573acf69",
        "colab": {
          "base_uri": "https://localhost:8080/",
          "height": 169
        }
      },
      "execution_count": 32,
      "outputs": [
        {
          "output_type": "error",
          "ename": "TypeError",
          "evalue": "ignored",
          "traceback": [
            "\u001b[0;31m---------------------------------------------------------------------------\u001b[0m",
            "\u001b[0;31mTypeError\u001b[0m                                 Traceback (most recent call last)",
            "\u001b[0;32m<ipython-input-32-21de1fb5e6b2>\u001b[0m in \u001b[0;36m<module>\u001b[0;34m\u001b[0m\n\u001b[0;32m----> 1\u001b[0;31m \u001b[0mprint\u001b[0m\u001b[0;34m(\u001b[0m\u001b[0;34m'mirla'\u001b[0m\u001b[0;34m+\u001b[0m\u001b[0;36m5\u001b[0m\u001b[0;34m)\u001b[0m\u001b[0;34m\u001b[0m\u001b[0;34m\u001b[0m\u001b[0m\n\u001b[0m",
            "\u001b[0;31mTypeError\u001b[0m: can only concatenate str (not \"int\") to str"
          ]
        }
      ]
    },
    {
      "cell_type": "code",
      "source": [
        "print(\"mirla\"+str(5))"
      ],
      "metadata": {
        "id": "MkIFEZk8WFKS",
        "outputId": "08298d75-12da-4a96-e3b2-c1e6323decca",
        "colab": {
          "base_uri": "https://localhost:8080/"
        }
      },
      "execution_count": 33,
      "outputs": [
        {
          "output_type": "stream",
          "name": "stdout",
          "text": [
            "mirla5\n"
          ]
        }
      ]
    },
    {
      "cell_type": "code",
      "source": [
        "print(\"micro\"+\"ondas\")"
      ],
      "metadata": {
        "id": "bWs56GKiWPTh",
        "outputId": "5b914da0-9c2e-4ce1-97a5-40bbd357727f",
        "colab": {
          "base_uri": "https://localhost:8080/"
        }
      },
      "execution_count": 35,
      "outputs": [
        {
          "output_type": "stream",
          "name": "stdout",
          "text": [
            "microondas\n"
          ]
        }
      ]
    },
    {
      "cell_type": "code",
      "source": [
        "print(5 == 5.0)"
      ],
      "metadata": {
        "id": "JM3pHEVTWU9R",
        "outputId": "9ae09804-4429-4964-924d-9c1d02f31077",
        "colab": {
          "base_uri": "https://localhost:8080/"
        }
      },
      "execution_count": 36,
      "outputs": [
        {
          "output_type": "stream",
          "name": "stdout",
          "text": [
            "True\n"
          ]
        }
      ]
    },
    {
      "cell_type": "code",
      "source": [
        "print(7>1)"
      ],
      "metadata": {
        "id": "Ta6XIzgnWvdB",
        "outputId": "35e5ae76-e816-43d3-c21f-219d256f0fb2",
        "colab": {
          "base_uri": "https://localhost:8080/"
        }
      },
      "execution_count": 37,
      "outputs": [
        {
          "output_type": "stream",
          "name": "stdout",
          "text": [
            "True\n"
          ]
        }
      ]
    },
    {
      "cell_type": "code",
      "source": [
        "print(1.5 < 90)"
      ],
      "metadata": {
        "id": "98Jd1hZfWyRR",
        "outputId": "7d13d796-c75b-4982-a47a-12753e24a931",
        "colab": {
          "base_uri": "https://localhost:8080/"
        }
      },
      "execution_count": 38,
      "outputs": [
        {
          "output_type": "stream",
          "name": "stdout",
          "text": [
            "True\n"
          ]
        }
      ]
    },
    {
      "cell_type": "code",
      "source": [
        "print(5.0 >= 5)\n"
      ],
      "metadata": {
        "id": "SH6e9tHDW1rR",
        "outputId": "415ddbaf-f950-43e3-85bc-e51690ba7cf7",
        "colab": {
          "base_uri": "https://localhost:8080/"
        }
      },
      "execution_count": 39,
      "outputs": [
        {
          "output_type": "stream",
          "name": "stdout",
          "text": [
            "True\n"
          ]
        }
      ]
    },
    {
      "cell_type": "code",
      "source": [
        "print(5.0 >= 4)"
      ],
      "metadata": {
        "id": "xjJXlC87W5kw",
        "outputId": "fab41588-a102-4b44-84b4-cefdd9123991",
        "colab": {
          "base_uri": "https://localhost:8080/"
        }
      },
      "execution_count": 40,
      "outputs": [
        {
          "output_type": "stream",
          "name": "stdout",
          "text": [
            "True\n"
          ]
        }
      ]
    },
    {
      "cell_type": "code",
      "source": [
        "print(5 >= 13)"
      ],
      "metadata": {
        "id": "afzktDpGW8Ex",
        "outputId": "582bfb6c-2cb8-4086-e77d-c6810de0ff5a",
        "colab": {
          "base_uri": "https://localhost:8080/"
        }
      },
      "execution_count": 41,
      "outputs": [
        {
          "output_type": "stream",
          "name": "stdout",
          "text": [
            "False\n"
          ]
        }
      ]
    },
    {
      "cell_type": "code",
      "source": [
        "print(\"hello\" < \"world\")"
      ],
      "metadata": {
        "id": "sVOujDOWW-mB",
        "outputId": "22fa90e7-67dc-4920-83aa-092be25da78d",
        "colab": {
          "base_uri": "https://localhost:8080/"
        }
      },
      "execution_count": 42,
      "outputs": [
        {
          "output_type": "stream",
          "name": "stdout",
          "text": [
            "True\n"
          ]
        }
      ]
    },
    {
      "cell_type": "code",
      "source": [
        "print(\"hello\" == \"world\")"
      ],
      "metadata": {
        "id": "bdk0hlckXMmA",
        "outputId": "7cdeaefe-b519-4762-b4b9-0044998e3f84",
        "colab": {
          "base_uri": "https://localhost:8080/"
        }
      },
      "execution_count": 43,
      "outputs": [
        {
          "output_type": "stream",
          "name": "stdout",
          "text": [
            "False\n"
          ]
        }
      ]
    },
    {
      "cell_type": "code",
      "source": [
        "x = 7\n",
        "y = 14\n",
        "\n",
        "\n",
        "if (2*x == y):\n",
        "  print(\"y is double of x\")\n",
        "elif (x**2 == y):\n",
        "  print(\"y is the squared of x\")\n",
        "else:\n",
        "  print(\"y is NOT double of x\")"
      ],
      "metadata": {
        "id": "JGumOEpEXPUi",
        "outputId": "3b2c32ba-a6cc-42fb-f305-63e41d57b302",
        "colab": {
          "base_uri": "https://localhost:8080/"
        }
      },
      "execution_count": 44,
      "outputs": [
        {
          "output_type": "stream",
          "name": "stdout",
          "text": [
            "y is double of x\n"
          ]
        }
      ]
    },
    {
      "cell_type": "code",
      "source": [
        "x = 7\n",
        "y = 49\n",
        "\n",
        "\n",
        "if (2*x == y):\n",
        "  print(\"y is double of x\")\n",
        "elif (x**2 == y):\n",
        "  print(\"y is the squared of x\")\n",
        "else:\n",
        "  print(\"y is NOT double of x\")"
      ],
      "metadata": {
        "id": "xjmdY48wYLXB",
        "outputId": "4442a2f5-aee8-40a1-f373-1cdb39f266ed",
        "colab": {
          "base_uri": "https://localhost:8080/"
        }
      },
      "execution_count": 45,
      "outputs": [
        {
          "output_type": "stream",
          "name": "stdout",
          "text": [
            "y is the squared of x\n"
          ]
        }
      ]
    },
    {
      "cell_type": "code",
      "source": [
        "x = 7\n",
        "y = 50\n",
        "\n",
        "\n",
        "if (2*x == y):\n",
        "  print(\"y is double of x\")\n",
        "elif (x**2 == y):\n",
        "  print(\"y is the squared of x\")\n",
        "else:\n",
        "  print(\"y is NOT double of x\")"
      ],
      "metadata": {
        "id": "cvG_Lnv4YP9h",
        "outputId": "3f6ee44a-41ee-42ff-d8bf-b728793dbcb1",
        "colab": {
          "base_uri": "https://localhost:8080/"
        }
      },
      "execution_count": 46,
      "outputs": [
        {
          "output_type": "stream",
          "name": "stdout",
          "text": [
            "y is NOT double of x\n"
          ]
        }
      ]
    },
    {
      "cell_type": "code",
      "source": [
        "digito = input(\"digite um número:\\t\")\n",
        "if(digito == '0'):\n",
        "  print(\"número digitado foi 0\")\n",
        "elif(digito == '1'):\n",
        "  print(\"número digitado foi 1\")\n",
        "elif(digito == '2'):\n",
        "  print(\"número digitado foi 2\")\n",
        "elif(digito == '3'):\n",
        "  print(\"número digitado foi 3\")\n",
        "elif(digito == '4'):\n",
        "  print(\"número digitado foi 4\")\n",
        "elif(digito == '5'):\n",
        "  print(\"número digitado foi 5\")\n",
        "elif(digito == '6'):\n",
        "  print(\"número digitado foi 6\")\n",
        "elif(digito == '7'):\n",
        "  print(\"número digitado foi 7\")\n",
        "elif(digito == '8'):\n",
        "  print(\"número digitado foi 8\")\n",
        "elif(digito == '9'):\n",
        "  print(\"número digitado foi 9\")\n",
        "else: print(\"número inválido\")"
      ],
      "metadata": {
        "id": "R3Lx6cpgYafR",
        "outputId": "07239412-3d72-487b-caae-101a96e22c23",
        "colab": {
          "base_uri": "https://localhost:8080/"
        }
      },
      "execution_count": 50,
      "outputs": [
        {
          "output_type": "stream",
          "name": "stdout",
          "text": [
            "digite um número:\t98\n",
            "número inválido\n"
          ]
        }
      ]
    },
    {
      "cell_type": "code",
      "source": [],
      "metadata": {
        "id": "StMVCThQZMDS"
      },
      "execution_count": null,
      "outputs": []
    }
  ]
}